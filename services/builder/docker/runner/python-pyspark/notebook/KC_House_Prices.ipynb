{
 "cells": [
  {
   "cell_type": "markdown",
   "metadata": {},
   "source": [
    "# Predicting House Prices"
   ]
  },
  {
   "cell_type": "markdown",
   "metadata": {},
   "source": [
    "Moving to a new area? Want to sell or buy an house? Not sure about the right price? Machine learning can be of help!\n",
    "We are going to try some very simple regression models, asses their quality against some metrics and predict some house prices.\n",
    "\n",
    "For this exercise we are going to use [Apache Spark](https://spark.apache.org/) version 2.0 and its ML library. For a general overview of Apache Spark check this [Wikipedia link](https://en.wikipedia.org/wiki/Apache_Spark). Don't forget to check [Apache Spark ML documentation](http://spark.apache.org/docs/latest/ml-guide.html) for an overview of its Machine Learning capabilites!\n",
    "\n",
    "We are going to use the House Sales in King Country, USA available from [Kaggle website](https://www.kaggle.com/harlfoxem/housesalesprediction). You need to sign-in and download the csv file to an appropriate location in order."
   ]
  },
  {
   "cell_type": "code",
   "execution_count": 1,
   "metadata": {
    "collapsed": false
   },
   "outputs": [],
   "source": [
    "import sys\n",
    "import os\n",
    "\n",
    "from pyspark.sql.types import *\n",
    "import pyspark.sql.functions as func\n",
    "\n",
    "from pyspark.ml import Pipeline\n",
    "from pyspark.ml.evaluation import RegressionEvaluator\n",
    "from pyspark.ml.feature import Bucketizer, OneHotEncoder, StringIndexer, VectorAssembler\n",
    "from pyspark.ml.regression import GeneralizedLinearRegression, LinearRegression\n",
    "from pyspark.ml.tuning import CrossValidator, ParamGridBuilder \n",
    "\n",
    "import matplotlib.pyplot as plt\n",
    "%matplotlib inline\n"
   ]
  },
  {
   "cell_type": "code",
   "execution_count": 14,
   "metadata": {
    "collapsed": false
   },
   "outputs": [
    {
     "data": {
      "text/plain": [
       "<pyspark.sql.context.SQLContext at 0x7f0a4dcf0210>"
      ]
     },
     "execution_count": 14,
     "metadata": {},
     "output_type": "execute_result"
    }
   ],
   "source": [
    "import pyspark\n",
    "from pyspark.sql import SQLContext\n",
    "\n",
    "if ('sc' not in locals() or 'sc' not in globals()):\n",
    "    os.environ['PYSPARK_PYTHON'] = '/usr/bin/python2'\n",
    "    sc = pyspark.SparkContext('local[*]')\n",
    "\n",
    "sqlContext = SQLContext(sc)"
   ]
  },
  {
   "cell_type": "markdown",
   "metadata": {},
   "source": [
    "## Dataset exploration\n",
    "\n",
    "Apache Spark can load data from many different datasources including CSV files. For this exercise we are gong to specify the CSV file schema as it will come handy throughout this sample."
   ]
  },
  {
   "cell_type": "code",
   "execution_count": 15,
   "metadata": {
    "collapsed": false
   },
   "outputs": [],
   "source": [
    "kc_house_schema = StructType([\\\n",
    "                              StructField('id', LongType(),True),\\\n",
    "                              StructField('date', DateType(),True),\n",
    "                              StructField('price', FloatType(),True),\\\n",
    "                              StructField('bedrooms',IntegerType(),True),\\\n",
    "                              StructField('bathrooms',FloatType(),True),\\\n",
    "                              StructField('sqft_living',IntegerType(),True),\\\n",
    "                              StructField('sqft_lot',IntegerType(),True),\\\n",
    "                              StructField('floors',DoubleType(),True),\\\n",
    "                              StructField('waterfront',IntegerType(),True),\\\n",
    "                              StructField('view',IntegerType(),True),\\\n",
    "                              StructField('condition',IntegerType(),True),\\\n",
    "                              StructField('grade',IntegerType(),True),\\\n",
    "                              StructField('sqft_above',IntegerType(),True),\\\n",
    "                              StructField('sqft_basement',IntegerType(),True),\\\n",
    "                              StructField('yr_built',IntegerType(),True),\\\n",
    "                              StructField('yr_renovated',IntegerType(),True),\\\n",
    "                              StructField('zipcode',IntegerType(),True),\\\n",
    "                              StructField('lat',DoubleType(),True),\\\n",
    "                              StructField('long',DoubleType(),True),\\\n",
    "                              StructField('sqft_living15',IntegerType(),True),\\\n",
    "                              StructField('sqft_lot15',IntegerType(),True)\\\n",
    "                             ])"
   ]
  },
  {
   "cell_type": "code",
   "execution_count": 16,
   "metadata": {
    "collapsed": false
   },
   "outputs": [
    {
     "ename": "NameError",
     "evalue": "name 'spark' is not defined",
     "output_type": "error",
     "traceback": [
      "\u001b[1;31m\u001b[0m",
      "\u001b[1;31mNameError\u001b[0mTraceback (most recent call last)",
      "\u001b[1;32m<ipython-input-16-9eae6893311e>\u001b[0m in \u001b[0;36m<module>\u001b[1;34m()\u001b[0m\n\u001b[1;32m----> 1\u001b[1;33m \u001b[0mspark\u001b[0m\u001b[1;33m\u001b[0m\u001b[0m\n\u001b[0m",
      "\u001b[1;31mNameError\u001b[0m: name 'spark' is not defined"
     ]
    }
   ],
   "source": []
  },
  {
   "cell_type": "code",
   "execution_count": 17,
   "metadata": {
    "collapsed": false
   },
   "outputs": [
    {
     "data": {
      "text/plain": [
       "DataFrame[id: bigint, date: date, price: float, bedrooms: int, bathrooms: float, sqft_living: int, sqft_lot: int, floors: double, waterfront: int, view: int, condition: int, grade: int, sqft_above: int, sqft_basement: int, yr_built: int, yr_renovated: int, zipcode: int, lat: double, long: double, sqft_living15: int, sqft_lot15: int]"
      ]
     },
     "execution_count": 17,
     "metadata": {},
     "output_type": "execute_result"
    }
   ],
   "source": [
    "file_name = 'kc_house_data.csv'\n",
    "\n",
    "kc_house_data = sqlContext.read.csv(\n",
    "                    os.path.join(file_name),\n",
    "                    header=True, \n",
    "                    inferSchema=False, \n",
    "                    schema=kc_house_schema,\n",
    "                    dateFormat='yyyyMMdd\\'T\\'HHmmss')\n",
    "kc_house_data.cache()"
   ]
  },
  {
   "cell_type": "markdown",
   "metadata": {},
   "source": [
    "**Note:** Don't forget to ```cache``` frequently used DataFrames to improve speed and performache."
   ]
  },
  {
   "cell_type": "code",
   "execution_count": 18,
   "metadata": {
    "collapsed": false
   },
   "outputs": [
    {
     "data": {
      "text/plain": [
       "['id',\n",
       " 'date',\n",
       " 'price',\n",
       " 'bedrooms',\n",
       " 'bathrooms',\n",
       " 'sqft_living',\n",
       " 'sqft_lot',\n",
       " 'floors',\n",
       " 'waterfront',\n",
       " 'view',\n",
       " 'condition',\n",
       " 'grade',\n",
       " 'sqft_above',\n",
       " 'sqft_basement',\n",
       " 'yr_built',\n",
       " 'yr_renovated',\n",
       " 'zipcode',\n",
       " 'lat',\n",
       " 'long',\n",
       " 'sqft_living15',\n",
       " 'sqft_lot15']"
      ]
     },
     "execution_count": 18,
     "metadata": {},
     "output_type": "execute_result"
    }
   ],
   "source": [
    "kc_house_data.columns"
   ]
  },
  {
   "cell_type": "markdown",
   "metadata": {},
   "source": [
    "Above the list of the columns available in this dataset. We will ask Apache Spark to briefly describe some of them in order to get a general understandig of their contents. When exploring a dataset it is quite common to investigate the correlation between the different variables and the variable we are trying to predict."
   ]
  },
  {
   "cell_type": "code",
   "execution_count": 5,
   "metadata": {
    "collapsed": false
   },
   "outputs": [
    {
     "name": "stdout",
     "output_type": "stream",
     "text": [
      "+-------+------------------+-----------------+------------------+------------------+------------------+\n",
      "|summary|             price|         bedrooms|         bathrooms|       sqft_living|          sqft_lot|\n",
      "+-------+------------------+-----------------+------------------+------------------+------------------+\n",
      "|  count|             21613|            21613|             21613|             21613|             21613|\n",
      "|   mean| 540088.1417665294| 3.37084162309721|2.1147573219821405|2079.8997362698374|15106.967565816869|\n",
      "| stddev|367127.19648270035|0.930061831147451| 0.770163157217741| 918.4408970468096| 41420.51151513551|\n",
      "|    min|           75000.0|                0|               0.0|               290|               520|\n",
      "|    max|         7700000.0|               33|               8.0|             13540|           1651359|\n",
      "+-------+------------------+-----------------+------------------+------------------+------------------+\n",
      "\n"
     ]
    }
   ],
   "source": [
    "kc_house_data.describe('price', 'bedrooms', 'bathrooms', 'sqft_living', 'sqft_lot').show()"
   ]
  },
  {
   "cell_type": "code",
   "execution_count": 6,
   "metadata": {
    "collapsed": false
   },
   "outputs": [
    {
     "name": "stdout",
     "output_type": "stream",
     "text": [
      "+-------+------------------+--------------------+-------------------+------------------+------------------+\n",
      "|summary|            floors|          waterfront|               view|             grade|        sqft_above|\n",
      "+-------+------------------+--------------------+-------------------+------------------+------------------+\n",
      "|  count|             21613|               21613|              21613|             21613|             21613|\n",
      "|   mean|1.4943089807060566|0.007541757275713691|0.23430342849211122| 7.656873178179799|1788.3906907879516|\n",
      "| stddev|0.5399888951423489| 0.08651719772788748| 0.7663175692736114|1.1754587569743344| 828.0909776519175|\n",
      "|    min|               1.0|                   0|                  0|                 1|               290|\n",
      "|    max|               3.5|                   1|                  4|                13|              9410|\n",
      "+-------+------------------+--------------------+-------------------+------------------+------------------+\n",
      "\n"
     ]
    }
   ],
   "source": [
    "kc_house_data.describe('floors', 'waterfront', 'view', 'grade', 'sqft_above').show()"
   ]
  },
  {
   "cell_type": "code",
   "execution_count": 7,
   "metadata": {
    "collapsed": false,
    "scrolled": true
   },
   "outputs": [
    {
     "name": "stdout",
     "output_type": "stream",
     "text": [
      "+-------+------------------+------------------+------------------+-------------------+-------------------+\n",
      "|summary|     sqft_basement|          yr_built|      yr_renovated|                lat|               long|\n",
      "+-------+------------------+------------------+------------------+-------------------+-------------------+\n",
      "|  count|             21613|             21613|             21613|              21613|              21613|\n",
      "|   mean| 291.5090454818859|1971.0051357978994| 84.40225790033776|  47.56005251931704|-122.21389640494083|\n",
      "| stddev|442.57504267746685|29.373410802386243|401.67924001917504|0.13856371024192368|0.14082834238139288|\n",
      "|    min|                 0|              1900|                 0|            47.1559|           -122.519|\n",
      "|    max|              4820|              2015|              2015|            47.7776|           -121.315|\n",
      "+-------+------------------+------------------+------------------+-------------------+-------------------+\n",
      "\n"
     ]
    }
   ],
   "source": [
    "kc_house_data.describe('sqft_basement', 'yr_built', 'yr_renovated', 'lat', 'long').show()"
   ]
  },
  {
   "cell_type": "code",
   "execution_count": 8,
   "metadata": {
    "collapsed": false
   },
   "outputs": [
    {
     "name": "stdout",
     "output_type": "stream",
     "text": [
      "+-------+-----------------+------------------+------------------+\n",
      "|summary|    sqft_living15|        sqft_lot15|         condition|\n",
      "+-------+-----------------+------------------+------------------+\n",
      "|  count|            21613|             21613|             21613|\n",
      "|   mean|1986.552491556008|12768.455651691113|3.4094295100171195|\n",
      "| stddev|685.3913042527788|27304.179631338524|0.6507430463662044|\n",
      "|    min|              399|               651|                 1|\n",
      "|    max|             6210|            871200|                 5|\n",
      "+-------+-----------------+------------------+------------------+\n",
      "\n"
     ]
    }
   ],
   "source": [
    "kc_house_data.describe('sqft_living15', 'sqft_lot15', 'condition').show()"
   ]
  },
  {
   "cell_type": "code",
   "execution_count": 9,
   "metadata": {
    "collapsed": false
   },
   "outputs": [
    {
     "name": "stderr",
     "output_type": "stream",
     "text": [
      "/usr/local/lib/python2.7/dist-packages/matplotlib/collections.py:590: FutureWarning: elementwise comparison failed; returning scalar instead, but in the future will perform elementwise comparison\n",
      "  if self._edgecolors == str('face'):\n"
     ]
    },
    {
     "data": {
      "image/png": "[encoded data removed]",
      "text/plain": [
       "<matplotlib.figure.Figure at 0x7f80b3c99c50>"
      ]
     },
     "metadata": {},
     "output_type": "display_data"
    }
   ],
   "source": [
    "plt.scatter(kc_house_data.select('sqft_living').collect(),kc_house_data.select('price').collect())\n",
    "plt.xlabel('Sqft. Living')\n",
    "plt.ylabel('Price')\n",
    "plt.show()"
   ]
  },
  {
   "cell_type": "markdown",
   "metadata": {},
   "source": [
    "**Note:** The dataset is clean a ready to be used. This is not common in real life scenarios! Make sure to prepare you data before training you models"
   ]
  },
  {
   "cell_type": "code",
   "execution_count": 10,
   "metadata": {
    "collapsed": false
   },
   "outputs": [],
   "source": [
    "price_stats_map = kc_house_data.describe('price').rdd.collectAsMap()\n",
    "min_price = float(price_stats_map['min'])\n",
    "max_price = float(price_stats_map['max'])\n",
    "\n",
    "num_buckets = 50 \n",
    "\n",
    "bucket_size = (max_price - min_price) / num_buckets\n",
    "splits = [float(min_price + i * bucket_size) for i in range(num_buckets+1)]\n",
    "\n",
    "bucketizer = Bucketizer(splits=splits, inputCol=\"price\", outputCol=\"bucket\")\n",
    "\n",
    "buckeizerData = kc_house_data.selectExpr('cast(price as double) price')\n",
    "\n",
    "bucketedPrice = bucketizer.transform(buckeizerData)\\\n",
    "                          .groupBy('bucket')\\\n",
    "                          .count()\\\n",
    "                          .sort('bucket')"
   ]
  },
  {
   "cell_type": "code",
   "execution_count": 11,
   "metadata": {
    "collapsed": false
   },
   "outputs": [],
   "source": [
    "buckets = bucketedPrice.select('bucket').rdd.map(lambda x: x.bucket).collect()\n",
    "count = bucketedPrice.select('count').rdd.map(lambda x: x['count']).collect()"
   ]
  },
  {
   "cell_type": "code",
   "execution_count": 12,
   "metadata": {
    "collapsed": false
   },
   "outputs": [
    {
     "data": {
      "image/png": "[encoded data removed]",
      "text/plain": [
       "<matplotlib.figure.Figure at 0x7f80b2c17510>"
      ]
     },
     "metadata": {},
     "output_type": "display_data"
    }
   ],
   "source": [
    "plt.bar(buckets,count, log=True)\n",
    "plt.xlabel('Bin')\n",
    "plt.ylabel('Count')\n",
    "plt.show()"
   ]
  },
  {
   "cell_type": "markdown",
   "metadata": {},
   "source": [
    "## Build a simple Regression model based on the 'sqft_living' only\n",
    "\n",
    "Lets create our first Regression model to predict the house *price* based on a single feature, the *sqft_living* of the house.\n",
    "\n",
    "First we proceed to prepare a training and test sets, let not forget to cache them to speed the performaces.  "
   ]
  },
  {
   "cell_type": "code",
   "execution_count": 13,
   "metadata": {
    "collapsed": false
   },
   "outputs": [
    {
     "data": {
      "text/plain": [
       "DataFrame[id: bigint, date: date, price: float, bedrooms: int, bathrooms: float, sqft_living: int, sqft_lot: int, floors: double, waterfront: int, view: int, condition: int, grade: int, sqft_above: int, sqft_basement: int, yr_built: int, yr_renovated: int, zipcode: int, lat: double, long: double, sqft_living15: int, sqft_lot15: int]"
      ]
     },
     "execution_count": 13,
     "metadata": {},
     "output_type": "execute_result"
    }
   ],
   "source": [
    "train, test = kc_house_data.randomSplit([0.80, 0.20], seed=42)\n",
    "train.cache()\n",
    "test.cache()"
   ]
  },
  {
   "cell_type": "markdown",
   "metadata": {},
   "source": [
    "Starting from Apache Spark 1.2 it is possible to leverage on [ML Pipelines](http://spark.apache.org/docs/latest/ml-pipeline.html), an high-level API that defines a sequence of stages we want our data to go through.\n",
    "\n",
    "Our pipeline will:\n",
    "* Assemble the feature vector based on some feature list using the [VectorAssmebler](http://spark.apache.org/docs/latest/ml-features.html#vectorassembler)\n",
    "* Prepare the [LineraRegression](http://spark.apache.org/docs/latest/ml-classification-regression.html#linear-regression) model\n",
    "* Assemble the workflow pipeline\n",
    "* Tune the model via [CrossValidator](http://spark.apache.org/docs/latest/ml-tuning.html)\n",
    "\n",
    "Once the model has been trained and selected. We will generate some predicion and evaluate the [RMSE](https://en.wikipedia.org/wiki/Root-mean-square_deviation) using a RegressionEvaluator"
   ]
  },
  {
   "cell_type": "code",
   "execution_count": 14,
   "metadata": {
    "collapsed": false
   },
   "outputs": [],
   "source": [
    "features_columns = ['sqft_living']\n",
    "\n",
    "vectorAssembler = VectorAssembler(inputCols=features_columns, outputCol='features')\n",
    "\n",
    "linearRegression = LinearRegression(labelCol='price')\n",
    "regressionEvaluator = RegressionEvaluator(labelCol='price')\n",
    "\n",
    "pipeline = Pipeline(stages=[vectorAssembler, linearRegression])\n",
    "\n",
    "paramGrid = ParamGridBuilder()\\\n",
    "    .addGrid(linearRegression.regParam, [1.0, 0.1, 0.01])\\\n",
    "    .build()\n",
    "\n",
    "crossValidator = CrossValidator(estimator=pipeline,\n",
    "                                estimatorParamMaps=paramGrid,\n",
    "                                evaluator=regressionEvaluator,\n",
    "                                numFolds=10)\n",
    "\n",
    "singleFeatureModel = crossValidator.fit(train)\n"
   ]
  },
  {
   "cell_type": "code",
   "execution_count": 15,
   "metadata": {
    "collapsed": true
   },
   "outputs": [],
   "source": [
    "singleFeatureModelPredictions = singleFeatureModel.transform(test)"
   ]
  },
  {
   "cell_type": "code",
   "execution_count": 16,
   "metadata": {
    "collapsed": false
   },
   "outputs": [],
   "source": [
    "singleFeatureModelRMSE = regressionEvaluator.evaluate(singleFeatureModelPredictions)"
   ]
  },
  {
   "cell_type": "code",
   "execution_count": 17,
   "metadata": {
    "collapsed": false
   },
   "outputs": [
    {
     "name": "stdout",
     "output_type": "stream",
     "text": [
      "Single Feature Model RMSE: 260877.960048\n"
     ]
    }
   ],
   "source": [
    "print \"Single Feature Model RMSE: %s\" % singleFeatureModelRMSE"
   ]
  },
  {
   "cell_type": "markdown",
   "metadata": {},
   "source": [
    "#### Our Single Feature Model has an RMSE of about 260.877$"
   ]
  },
  {
   "cell_type": "code",
   "execution_count": 18,
   "metadata": {
    "collapsed": false
   },
   "outputs": [
    {
     "data": {
      "image/png": "[encoded data removed]",
      "text/plain": [
       "<matplotlib.figure.Figure at 0x7f80b3c72290>"
      ]
     },
     "metadata": {},
     "output_type": "display_data"
    }
   ],
   "source": [
    "plt.plot(test.select('sqft_living').collect(),test.select('price').collect(),'o',\n",
    "        test.select('sqft_living').collect(),singleFeatureModelPredictions.select('prediction').collect(),'-')\n",
    "plt.xlabel('Sqft. Living')\n",
    "plt.ylabel('Price')\n",
    "plt.show()"
   ]
  },
  {
   "cell_type": "markdown",
   "metadata": {
    "collapsed": true
   },
   "source": [
    "## A more advanced model\n",
    "\n",
    "We will now leverage on more features to build a more advanced model that hopefully will lead to better results.\n",
    "\n",
    "We will take advange of the pipeline system to pre-process some of the features. In this example the *zipcode*, *yr_built* and *yr_renovated* are [categrical variables](https://en.wikipedia.org/wiki/Categorical_variable) and we are pre-processing it via One Hot Encoding algorithm."
   ]
  },
  {
   "cell_type": "code",
   "execution_count": 32,
   "metadata": {
    "collapsed": false
   },
   "outputs": [],
   "source": [
    "features_columns = ['bedrooms', 'bathrooms', 'sqft_living', 'sqft_lot', 'floors', 'grade', 'sqft_above',\\\n",
    "                    'sqft_basement', 'yr_builtVector', 'yr_renovatedVector', 'zipcodeVector', 'lat', 'long',\\\n",
    "                    'sqft_living15', 'sqft_lot15']\n",
    "\n",
    "\n",
    "zipcodeStringIndexer = StringIndexer(inputCol=\"zipcode\", outputCol=\"zipIndex\", handleInvalid='skip')\n",
    "zipcodeOneHotEncoder = OneHotEncoder(dropLast=False, inputCol=\"zipIndex\", outputCol=\"zipcodeVector\")\n",
    "yearBuiltStringIndexer = StringIndexer(inputCol=\"yr_built\", outputCol=\"yr_builtIndex\", handleInvalid='skip')\n",
    "yearBuiltOneHotEncoder = OneHotEncoder(dropLast=False, inputCol=\"yr_builtIndex\", outputCol=\"yr_builtVector\")\n",
    "yearRenovatedStringIndexer = StringIndexer(inputCol=\"yr_renovated\", outputCol=\"yr_renovatedIndex\", handleInvalid='skip')\n",
    "yearRenovatedOneHotEncoder = OneHotEncoder(dropLast=False, inputCol=\"yr_renovatedIndex\", outputCol=\"yr_renovatedVector\")\n",
    "\n",
    "vectorAssembler = VectorAssembler(inputCols=features_columns, outputCol='features')\n",
    "\n",
    "linearRegression = GeneralizedLinearRegression(family=\"gaussian\", link=\"log\", maxIter=100, labelCol='price')\n",
    "\n",
    "advancedPipeline = Pipeline(stages=[zipcodeStringIndexer, zipcodeOneHotEncoder,\\\n",
    "                                    yearBuiltStringIndexer, yearBuiltOneHotEncoder,\\\n",
    "                                    yearRenovatedStringIndexer, yearRenovatedOneHotEncoder,\\\n",
    "                                    vectorAssembler, linearRegression])\n",
    "\n",
    "paramGrid = ParamGridBuilder()\\\n",
    "    .addGrid(linearRegression.regParam, [1.0, 0.1, 0.01])\\\n",
    "    .build()\n",
    "\n",
    "crossValidator = CrossValidator(estimator=advancedPipeline,\n",
    "                                estimatorParamMaps=paramGrid,\n",
    "                                evaluator=regressionEvaluator,\n",
    "                                numFolds=10)\n",
    "\n",
    "advancedFeatureModel = crossValidator.fit(train)\n"
   ]
  },
  {
   "cell_type": "code",
   "execution_count": 33,
   "metadata": {
    "collapsed": true
   },
   "outputs": [],
   "source": [
    "advancedFeatureModelPredictions = advancedFeatureModel.transform(test)"
   ]
  },
  {
   "cell_type": "code",
   "execution_count": 34,
   "metadata": {
    "collapsed": true
   },
   "outputs": [],
   "source": [
    "advancedFeatureModelRMSE = regressionEvaluator.evaluate(advancedFeatureModelPredictions)"
   ]
  },
  {
   "cell_type": "code",
   "execution_count": 35,
   "metadata": {
    "collapsed": false
   },
   "outputs": [
    {
     "name": "stdout",
     "output_type": "stream",
     "text": [
      "Advanced Features Model RMSE: 154857.94152\n"
     ]
    }
   ],
   "source": [
    "print \"Advanced Features Model RMSE: %s\" % advancedFeatureModelRMSE"
   ]
  },
  {
   "cell_type": "markdown",
   "metadata": {},
   "source": [
    "#### The AdvancedFeatureModel has an RMSE of about 151.883$"
   ]
  },
  {
   "cell_type": "markdown",
   "metadata": {},
   "source": [
    "## Let's use our model to predict some house prices"
   ]
  },
  {
   "cell_type": "markdown",
   "metadata": {},
   "source": [
    "<img src=\"http://blue.kingcounty.com/Assessor/eRealProperty/MediaHandler.aspx?Media=2916871\" alt=\"Parcel 5309101200\" style=\"align: center;\"/>\n",
    "\n"
   ]
  },
  {
   "cell_type": "code",
   "execution_count": 42,
   "metadata": {
    "collapsed": false
   },
   "outputs": [
    {
     "name": "stdout",
     "output_type": "stream",
     "text": [
      "+--------+--------+--------+---------+-----------+--------+------+----------+----+---------+-----+-------+\n",
      "|yr_built|   price|bedrooms|bathrooms|sqft_living|sqft_lot|floors|waterfront|view|condition|grade|zipcode|\n",
      "+--------+--------+--------+---------+-----------+--------+------+----------+----+---------+-----+-------+\n",
      "|    1929|620000.0|       4|     2.25|       2400|    5350|   1.5|         0|   0|        4|    7|  98117|\n",
      "+--------+--------+--------+---------+-----------+--------+------+----------+----+---------+-----+-------+\n",
      "\n"
     ]
    }
   ],
   "source": [
    "kc_house_data.filter('id=5309101200')\\\n",
    "             .select('yr_built', 'price', 'bedrooms', 'bathrooms', 'sqft_living', 'sqft_lot', 'floors', 'waterfront',\\\n",
    "                     'view', 'condition', 'grade', 'zipcode')\\\n",
    "             .show()"
   ]
  },
  {
   "cell_type": "code",
   "execution_count": 25,
   "metadata": {
    "collapsed": false
   },
   "outputs": [
    {
     "data": {
      "text/plain": [
       "[Row(price=620000.0, prediction=543237.2120918719)]"
      ]
     },
     "execution_count": 25,
     "metadata": {},
     "output_type": "execute_result"
    }
   ],
   "source": [
    "advancedFeatureModel.transform(kc_house_data.filter('id=5309101200')).select('price', 'prediction').collect()"
   ]
  },
  {
   "cell_type": "markdown",
   "metadata": {},
   "source": [
    "## Lets try with another house in the dataset:"
   ]
  },
  {
   "cell_type": "markdown",
   "metadata": {},
   "source": [
    "<img src=\"http://blue.kingcounty.com/Assessor/eRealProperty/MediaHandler.aspx?Media=3245161\" alt=\"Parcel 7979900210\" style=\"align: center;\"/>\n",
    "\n"
   ]
  },
  {
   "cell_type": "code",
   "execution_count": 41,
   "metadata": {
    "collapsed": false
   },
   "outputs": [
    {
     "name": "stdout",
     "output_type": "stream",
     "text": [
      "+--------+--------+--------+---------+-----------+--------+------+----------+----+---------+-----+-------+\n",
      "|yr_built|   price|bedrooms|bathrooms|sqft_living|sqft_lot|floors|waterfront|view|condition|grade|zipcode|\n",
      "+--------+--------+--------+---------+-----------+--------+------+----------+----+---------+-----+-------+\n",
      "|    1954|418900.0|       3|      1.5|       1470|   11112|   1.0|         0|   0|        3|    7|  98155|\n",
      "+--------+--------+--------+---------+-----------+--------+------+----------+----+---------+-----+-------+\n",
      "\n"
     ]
    }
   ],
   "source": [
    "kc_house_data.filter('id=7979900210')\\\n",
    "             .select('yr_built', 'price', 'bedrooms', 'bathrooms', 'sqft_living', 'sqft_lot', 'floors', 'waterfront',\\\n",
    "                     'view', 'condition', 'grade', 'zipcode')\\\n",
    "             .show()"
   ]
  },
  {
   "cell_type": "code",
   "execution_count": 43,
   "metadata": {
    "collapsed": false
   },
   "outputs": [
    {
     "data": {
      "text/plain": [
       "[Row(price=418900.0, prediction=418927.87643787457)]"
      ]
     },
     "execution_count": 43,
     "metadata": {},
     "output_type": "execute_result"
    }
   ],
   "source": [
    "advancedFeatureModel.transform(kc_house_data.filter('id=7979900210')).select('price', 'prediction').collect()"
   ]
  },
  {
   "cell_type": "markdown",
   "metadata": {},
   "source": [
    "### Last but not least let's try with an house out of the dataset\n",
    "Can you recognize it?\n"
   ]
  },
  {
   "cell_type": "markdown",
   "metadata": {},
   "source": [
    "<img src=\"https://upload.wikimedia.org/wikipedia/commons/d/d9/Bill_gates%27_house.jpg\" alt=\"Bill Gates\" style=\"width: 100%;\"/>\n"
   ]
  },
  {
   "cell_type": "code",
   "execution_count": 26,
   "metadata": {
    "collapsed": false
   },
   "outputs": [],
   "source": [
    "bill_gates_json = '{\"id\":0, \"date\":\"19980423T000000\",\"price\":0.00,\"bedrooms\":8,\"bathrooms\":25,\"sqft_living\":50000,\\\n",
    "\"sqft_lot\":225000,\"floors\":4,\"zipcode\":\"98039\",\"condition\":10,\"grade\":10,\"waterfront\":1,\"view\":4,\"sqft_above\":37500,\\\n",
    "\"sqft_basement\":12500,\"yr_built\":1994,\"yr_renovated\":2010,\"lat\":47.627606,\"long\":-122.242054,\"sqft_living15\":5000,\\\n",
    "\"sqft_lot15\":40000}'"
   ]
  },
  {
   "cell_type": "markdown",
   "metadata": {},
   "source": [
    "Let's import the house data and adjust it to our dataset schema."
   ]
  },
  {
   "cell_type": "code",
   "execution_count": 27,
   "metadata": {
    "collapsed": false
   },
   "outputs": [],
   "source": [
    "bill_gates = sqlContext.read.json(sc.parallelize([bill_gates_json]))\n",
    "\n",
    "for field in kc_house_schema.fields:\n",
    "    bill_gates = bill_gates.withColumn(field.name, bill_gates[field.name].cast(field.dataType).alias(field.name))"
   ]
  },
  {
   "cell_type": "code",
   "execution_count": 29,
   "metadata": {
    "collapsed": false
   },
   "outputs": [
    {
     "name": "stdout",
     "output_type": "stream",
     "text": [
      "+--------------------+\n",
      "|          prediction|\n",
      "+--------------------+\n",
      "|2.1420889193652208E9|\n",
      "+--------------------+\n",
      "\n"
     ]
    }
   ],
   "source": [
    "advancedFeatureModel.transform(bill_gates).select('prediction').show()"
   ]
  }
 ],
 "metadata": {
  "kernelspec": {
   "display_name": "Python 2",
   "language": "python",
   "name": "python2"
  },
  "language_info": {
   "codemirror_mode": {
    "name": "ipython",
    "version": 2
   },
   "file_extension": ".py",
   "mimetype": "text/x-python",
   "name": "python",
   "nbconvert_exporter": "python",
   "pygments_lexer": "ipython2",
   "version": "2.7.12"
  }
 },
 "nbformat": 4,
 "nbformat_minor": 0
}
