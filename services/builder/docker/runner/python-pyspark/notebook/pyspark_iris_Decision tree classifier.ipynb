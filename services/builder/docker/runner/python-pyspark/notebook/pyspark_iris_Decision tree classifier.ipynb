{
 "cells": [
  {
   "cell_type": "code",
   "execution_count": 1,
   "metadata": {
    "collapsed": false
   },
   "outputs": [],
   "source": [
    "import sys\n",
    "import os\n",
    "\n",
    "from pyspark.sql.types import *\n",
    "import pyspark.sql.functions as func\n",
    "\n",
    "from pyspark.ml import Pipeline\n",
    "from pyspark.ml.evaluation import RegressionEvaluator\n",
    "from pyspark.ml.feature import Bucketizer, OneHotEncoder, StringIndexer, VectorAssembler\n",
    "from pyspark.ml.regression import GeneralizedLinearRegression, LinearRegression\n",
    "from pyspark.ml.tuning import CrossValidator, ParamGridBuilder \n",
    "\n",
    "import pyspark\n",
    "from pyspark.sql import SQLContext\n",
    "\n",
    "#if ('sc' not in locals() or 'sc' not in globals()):\n",
    "#    os.environ['PYSPARK_PYTHON'] = '/usr/bin/python2'\n",
    "sc = pyspark.SparkContext('local[*]')\n",
    "sqlContext = SQLContext(sc)"
   ]
  },
  {
   "cell_type": "code",
   "execution_count": 2,
   "metadata": {
    "collapsed": false
   },
   "outputs": [],
   "source": [
    "df = sqlContext.read.csv(\"bezdekIris.data\", inferSchema=True)\\\n",
    ".toDF(\"sep_len\", \"sep_wid\", \"pet_len\", \"pet_wid\", \"label\")"
   ]
  },
  {
   "cell_type": "code",
   "execution_count": 16,
   "metadata": {
    "collapsed": false
   },
   "outputs": [
    {
     "name": "stdout",
     "output_type": "stream",
     "text": [
      "+---------------+-----------------+----------+\n",
      "|          label|         features|labelIndex|\n",
      "+---------------+-----------------+----------+\n",
      "|    Iris-setosa|[5.1,3.5,1.4,0.2]|       0.0|\n",
      "|    Iris-setosa|[4.9,3.0,1.4,0.2]|       0.0|\n",
      "|    Iris-setosa|[4.7,3.2,1.3,0.2]|       0.0|\n",
      "|    Iris-setosa|[4.6,3.1,1.5,0.2]|       0.0|\n",
      "|    Iris-setosa|[5.0,3.6,1.4,0.2]|       0.0|\n",
      "|    Iris-setosa|[5.4,3.9,1.7,0.4]|       0.0|\n",
      "|    Iris-setosa|[4.6,3.4,1.4,0.3]|       0.0|\n",
      "|    Iris-setosa|[5.0,3.4,1.5,0.2]|       0.0|\n",
      "|    Iris-setosa|[4.4,2.9,1.4,0.2]|       0.0|\n",
      "|    Iris-setosa|[4.9,3.1,1.5,0.1]|       0.0|\n",
      "|    Iris-setosa|[5.4,3.7,1.5,0.2]|       0.0|\n",
      "|    Iris-setosa|[4.8,3.4,1.6,0.2]|       0.0|\n",
      "|    Iris-setosa|[4.8,3.0,1.4,0.1]|       0.0|\n",
      "|    Iris-setosa|[4.3,3.0,1.1,0.1]|       0.0|\n",
      "|    Iris-setosa|[5.8,4.0,1.2,0.2]|       0.0|\n",
      "|    Iris-setosa|[5.7,4.4,1.5,0.4]|       0.0|\n",
      "|    Iris-setosa|[5.4,3.9,1.3,0.4]|       0.0|\n",
      "|    Iris-setosa|[5.1,3.5,1.4,0.3]|       0.0|\n",
      "|    Iris-setosa|[5.7,3.8,1.7,0.3]|       0.0|\n",
      "|    Iris-setosa|[5.1,3.8,1.5,0.3]|       0.0|\n",
      "|    Iris-setosa|[5.4,3.4,1.7,0.2]|       0.0|\n",
      "|    Iris-setosa|[5.1,3.7,1.5,0.4]|       0.0|\n",
      "|    Iris-setosa|[4.6,3.6,1.0,0.2]|       0.0|\n",
      "|    Iris-setosa|[5.1,3.3,1.7,0.5]|       0.0|\n",
      "|    Iris-setosa|[4.8,3.4,1.9,0.2]|       0.0|\n",
      "|    Iris-setosa|[5.0,3.0,1.6,0.2]|       0.0|\n",
      "|    Iris-setosa|[5.0,3.4,1.6,0.4]|       0.0|\n",
      "|    Iris-setosa|[5.2,3.5,1.5,0.2]|       0.0|\n",
      "|    Iris-setosa|[5.2,3.4,1.4,0.2]|       0.0|\n",
      "|    Iris-setosa|[4.7,3.2,1.6,0.2]|       0.0|\n",
      "|    Iris-setosa|[4.8,3.1,1.6,0.2]|       0.0|\n",
      "|    Iris-setosa|[5.4,3.4,1.5,0.4]|       0.0|\n",
      "|    Iris-setosa|[5.2,4.1,1.5,0.1]|       0.0|\n",
      "|    Iris-setosa|[5.5,4.2,1.4,0.2]|       0.0|\n",
      "|    Iris-setosa|[4.9,3.1,1.5,0.2]|       0.0|\n",
      "|    Iris-setosa|[5.0,3.2,1.2,0.2]|       0.0|\n",
      "|    Iris-setosa|[5.5,3.5,1.3,0.2]|       0.0|\n",
      "|    Iris-setosa|[4.9,3.6,1.4,0.1]|       0.0|\n",
      "|    Iris-setosa|[4.4,3.0,1.3,0.2]|       0.0|\n",
      "|    Iris-setosa|[5.1,3.4,1.5,0.2]|       0.0|\n",
      "|    Iris-setosa|[5.0,3.5,1.3,0.3]|       0.0|\n",
      "|    Iris-setosa|[4.5,2.3,1.3,0.3]|       0.0|\n",
      "|    Iris-setosa|[4.4,3.2,1.3,0.2]|       0.0|\n",
      "|    Iris-setosa|[5.0,3.5,1.6,0.6]|       0.0|\n",
      "|    Iris-setosa|[5.1,3.8,1.9,0.4]|       0.0|\n",
      "|    Iris-setosa|[4.8,3.0,1.4,0.3]|       0.0|\n",
      "|    Iris-setosa|[5.1,3.8,1.6,0.2]|       0.0|\n",
      "|    Iris-setosa|[4.6,3.2,1.4,0.2]|       0.0|\n",
      "|    Iris-setosa|[5.3,3.7,1.5,0.2]|       0.0|\n",
      "|    Iris-setosa|[5.0,3.3,1.4,0.2]|       0.0|\n",
      "|Iris-versicolor|[7.0,3.2,4.7,1.4]|       1.0|\n",
      "|Iris-versicolor|[6.4,3.2,4.5,1.5]|       1.0|\n",
      "|Iris-versicolor|[6.9,3.1,4.9,1.5]|       1.0|\n",
      "|Iris-versicolor|[5.5,2.3,4.0,1.3]|       1.0|\n",
      "|Iris-versicolor|[6.5,2.8,4.6,1.5]|       1.0|\n",
      "|Iris-versicolor|[5.7,2.8,4.5,1.3]|       1.0|\n",
      "|Iris-versicolor|[6.3,3.3,4.7,1.6]|       1.0|\n",
      "|Iris-versicolor|[4.9,2.4,3.3,1.0]|       1.0|\n",
      "|Iris-versicolor|[6.6,2.9,4.6,1.3]|       1.0|\n",
      "|Iris-versicolor|[5.2,2.7,3.9,1.4]|       1.0|\n",
      "|Iris-versicolor|[5.0,2.0,3.5,1.0]|       1.0|\n",
      "|Iris-versicolor|[5.9,3.0,4.2,1.5]|       1.0|\n",
      "|Iris-versicolor|[6.0,2.2,4.0,1.0]|       1.0|\n",
      "|Iris-versicolor|[6.1,2.9,4.7,1.4]|       1.0|\n",
      "|Iris-versicolor|[5.6,2.9,3.6,1.3]|       1.0|\n",
      "|Iris-versicolor|[6.7,3.1,4.4,1.4]|       1.0|\n",
      "|Iris-versicolor|[5.6,3.0,4.5,1.5]|       1.0|\n",
      "|Iris-versicolor|[5.8,2.7,4.1,1.0]|       1.0|\n",
      "|Iris-versicolor|[6.2,2.2,4.5,1.5]|       1.0|\n",
      "|Iris-versicolor|[5.6,2.5,3.9,1.1]|       1.0|\n",
      "|Iris-versicolor|[5.9,3.2,4.8,1.8]|       1.0|\n",
      "|Iris-versicolor|[6.1,2.8,4.0,1.3]|       1.0|\n",
      "|Iris-versicolor|[6.3,2.5,4.9,1.5]|       1.0|\n",
      "|Iris-versicolor|[6.1,2.8,4.7,1.2]|       1.0|\n",
      "|Iris-versicolor|[6.4,2.9,4.3,1.3]|       1.0|\n",
      "|Iris-versicolor|[6.6,3.0,4.4,1.4]|       1.0|\n",
      "|Iris-versicolor|[6.8,2.8,4.8,1.4]|       1.0|\n",
      "|Iris-versicolor|[6.7,3.0,5.0,1.7]|       1.0|\n",
      "|Iris-versicolor|[6.0,2.9,4.5,1.5]|       1.0|\n",
      "|Iris-versicolor|[5.7,2.6,3.5,1.0]|       1.0|\n",
      "|Iris-versicolor|[5.5,2.4,3.8,1.1]|       1.0|\n",
      "|Iris-versicolor|[5.5,2.4,3.7,1.0]|       1.0|\n",
      "|Iris-versicolor|[5.8,2.7,3.9,1.2]|       1.0|\n",
      "|Iris-versicolor|[6.0,2.7,5.1,1.6]|       1.0|\n",
      "|Iris-versicolor|[5.4,3.0,4.5,1.5]|       1.0|\n",
      "|Iris-versicolor|[6.0,3.4,4.5,1.6]|       1.0|\n",
      "|Iris-versicolor|[6.7,3.1,4.7,1.5]|       1.0|\n",
      "|Iris-versicolor|[6.3,2.3,4.4,1.3]|       1.0|\n",
      "|Iris-versicolor|[5.6,3.0,4.1,1.3]|       1.0|\n",
      "|Iris-versicolor|[5.5,2.5,4.0,1.3]|       1.0|\n",
      "|Iris-versicolor|[5.5,2.6,4.4,1.2]|       1.0|\n",
      "|Iris-versicolor|[6.1,3.0,4.6,1.4]|       1.0|\n",
      "|Iris-versicolor|[5.8,2.6,4.0,1.2]|       1.0|\n",
      "|Iris-versicolor|[5.0,2.3,3.3,1.0]|       1.0|\n",
      "|Iris-versicolor|[5.6,2.7,4.2,1.3]|       1.0|\n",
      "|Iris-versicolor|[5.7,3.0,4.2,1.2]|       1.0|\n",
      "|Iris-versicolor|[5.7,2.9,4.2,1.3]|       1.0|\n",
      "|Iris-versicolor|[6.2,2.9,4.3,1.3]|       1.0|\n",
      "|Iris-versicolor|[5.1,2.5,3.0,1.1]|       1.0|\n",
      "|Iris-versicolor|[5.7,2.8,4.1,1.3]|       1.0|\n",
      "| Iris-virginica|[6.3,3.3,6.0,2.5]|       2.0|\n",
      "| Iris-virginica|[5.8,2.7,5.1,1.9]|       2.0|\n",
      "| Iris-virginica|[7.1,3.0,5.9,2.1]|       2.0|\n",
      "| Iris-virginica|[6.3,2.9,5.6,1.8]|       2.0|\n",
      "| Iris-virginica|[6.5,3.0,5.8,2.2]|       2.0|\n",
      "| Iris-virginica|[7.6,3.0,6.6,2.1]|       2.0|\n",
      "| Iris-virginica|[4.9,2.5,4.5,1.7]|       2.0|\n",
      "| Iris-virginica|[7.3,2.9,6.3,1.8]|       2.0|\n",
      "| Iris-virginica|[6.7,2.5,5.8,1.8]|       2.0|\n",
      "| Iris-virginica|[7.2,3.6,6.1,2.5]|       2.0|\n",
      "| Iris-virginica|[6.5,3.2,5.1,2.0]|       2.0|\n",
      "| Iris-virginica|[6.4,2.7,5.3,1.9]|       2.0|\n",
      "| Iris-virginica|[6.8,3.0,5.5,2.1]|       2.0|\n",
      "| Iris-virginica|[5.7,2.5,5.0,2.0]|       2.0|\n",
      "| Iris-virginica|[5.8,2.8,5.1,2.4]|       2.0|\n",
      "| Iris-virginica|[6.4,3.2,5.3,2.3]|       2.0|\n",
      "| Iris-virginica|[6.5,3.0,5.5,1.8]|       2.0|\n",
      "| Iris-virginica|[7.7,3.8,6.7,2.2]|       2.0|\n",
      "| Iris-virginica|[7.7,2.6,6.9,2.3]|       2.0|\n",
      "| Iris-virginica|[6.0,2.2,5.0,1.5]|       2.0|\n",
      "| Iris-virginica|[6.9,3.2,5.7,2.3]|       2.0|\n",
      "| Iris-virginica|[5.6,2.8,4.9,2.0]|       2.0|\n",
      "| Iris-virginica|[7.7,2.8,6.7,2.0]|       2.0|\n",
      "| Iris-virginica|[6.3,2.7,4.9,1.8]|       2.0|\n",
      "| Iris-virginica|[6.7,3.3,5.7,2.1]|       2.0|\n",
      "| Iris-virginica|[7.2,3.2,6.0,1.8]|       2.0|\n",
      "| Iris-virginica|[6.2,2.8,4.8,1.8]|       2.0|\n",
      "| Iris-virginica|[6.1,3.0,4.9,1.8]|       2.0|\n",
      "| Iris-virginica|[6.4,2.8,5.6,2.1]|       2.0|\n",
      "| Iris-virginica|[7.2,3.0,5.8,1.6]|       2.0|\n",
      "| Iris-virginica|[7.4,2.8,6.1,1.9]|       2.0|\n",
      "| Iris-virginica|[7.9,3.8,6.4,2.0]|       2.0|\n",
      "| Iris-virginica|[6.4,2.8,5.6,2.2]|       2.0|\n",
      "| Iris-virginica|[6.3,2.8,5.1,1.5]|       2.0|\n",
      "| Iris-virginica|[6.1,2.6,5.6,1.4]|       2.0|\n",
      "| Iris-virginica|[7.7,3.0,6.1,2.3]|       2.0|\n",
      "| Iris-virginica|[6.3,3.4,5.6,2.4]|       2.0|\n",
      "| Iris-virginica|[6.4,3.1,5.5,1.8]|       2.0|\n",
      "| Iris-virginica|[6.0,3.0,4.8,1.8]|       2.0|\n",
      "| Iris-virginica|[6.9,3.1,5.4,2.1]|       2.0|\n",
      "| Iris-virginica|[6.7,3.1,5.6,2.4]|       2.0|\n",
      "| Iris-virginica|[6.9,3.1,5.1,2.3]|       2.0|\n",
      "| Iris-virginica|[5.8,2.7,5.1,1.9]|       2.0|\n",
      "| Iris-virginica|[6.8,3.2,5.9,2.3]|       2.0|\n",
      "| Iris-virginica|[6.7,3.3,5.7,2.5]|       2.0|\n",
      "| Iris-virginica|[6.7,3.0,5.2,2.3]|       2.0|\n",
      "| Iris-virginica|[6.3,2.5,5.0,1.9]|       2.0|\n",
      "| Iris-virginica|[6.5,3.0,5.2,2.0]|       2.0|\n",
      "| Iris-virginica|[6.2,3.4,5.4,2.3]|       2.0|\n",
      "| Iris-virginica|[5.9,3.0,5.1,1.8]|       2.0|\n",
      "+---------------+-----------------+----------+\n",
      "\n"
     ]
    }
   ],
   "source": [
    "df.show(150)"
   ]
  },
  {
   "cell_type": "code",
   "execution_count": 4,
   "metadata": {
    "collapsed": true
   },
   "outputs": [],
   "source": [
    "from pyspark.ml.linalg import Vectors\n",
    "from pyspark.ml.feature import VectorAssembler"
   ]
  },
  {
   "cell_type": "code",
   "execution_count": 5,
   "metadata": {
    "collapsed": false
   },
   "outputs": [
    {
     "name": "stdout",
     "output_type": "stream",
     "text": [
      "+-------+-------+-------+-------+-----------+-----------------+\n",
      "|sep_len|sep_wid|pet_len|pet_wid|      label|         features|\n",
      "+-------+-------+-------+-------+-----------+-----------------+\n",
      "|    5.1|    3.5|    1.4|    0.2|Iris-setosa|[5.1,3.5,1.4,0.2]|\n",
      "|    4.9|    3.0|    1.4|    0.2|Iris-setosa|[4.9,3.0,1.4,0.2]|\n",
      "|    4.7|    3.2|    1.3|    0.2|Iris-setosa|[4.7,3.2,1.3,0.2]|\n",
      "+-------+-------+-------+-------+-----------+-----------------+\n",
      "only showing top 3 rows\n",
      "\n"
     ]
    }
   ],
   "source": [
    "vector_assembler = VectorAssembler(\\\n",
    "inputCols=[\"sep_len\", \"sep_wid\", \"pet_len\", \"pet_wid\"],\\\n",
    "outputCol=\"features\")\n",
    "df_temp = vector_assembler.transform(df)\n",
    "df_temp.show(3)"
   ]
  },
  {
   "cell_type": "code",
   "execution_count": 6,
   "metadata": {
    "collapsed": false
   },
   "outputs": [
    {
     "name": "stdout",
     "output_type": "stream",
     "text": [
      "+-----------+-----------------+\n",
      "|      label|         features|\n",
      "+-----------+-----------------+\n",
      "|Iris-setosa|[5.1,3.5,1.4,0.2]|\n",
      "|Iris-setosa|[4.9,3.0,1.4,0.2]|\n",
      "|Iris-setosa|[4.7,3.2,1.3,0.2]|\n",
      "+-----------+-----------------+\n",
      "only showing top 3 rows\n",
      "\n"
     ]
    }
   ],
   "source": [
    "df = df_temp.drop(\"sep_len\").drop(\"sep_wid\").drop(\"pet_len\").drop(\"pet_wid\")\n",
    "df.show(3)"
   ]
  },
  {
   "cell_type": "code",
   "execution_count": 7,
   "metadata": {
    "collapsed": false
   },
   "outputs": [
    {
     "name": "stdout",
     "output_type": "stream",
     "text": [
      "+-----------+-----------------+----------+\n",
      "|      label|         features|labelIndex|\n",
      "+-----------+-----------------+----------+\n",
      "|Iris-setosa|[5.1,3.5,1.4,0.2]|       0.0|\n",
      "|Iris-setosa|[4.9,3.0,1.4,0.2]|       0.0|\n",
      "|Iris-setosa|[4.7,3.2,1.3,0.2]|       0.0|\n",
      "+-----------+-----------------+----------+\n",
      "only showing top 3 rows\n",
      "\n"
     ]
    }
   ],
   "source": [
    "from pyspark.ml.feature import StringIndexer\n",
    "l_indexer = StringIndexer(inputCol=\"label\", outputCol=\"labelIndex\")\n",
    "df = l_indexer.fit(df).transform(df)\n",
    "df.show(3)"
   ]
  },
  {
   "cell_type": "markdown",
   "metadata": {},
   "source": [
    "### Decision tree classifier"
   ]
  },
  {
   "cell_type": "code",
   "execution_count": 47,
   "metadata": {
    "collapsed": true
   },
   "outputs": [],
   "source": [
    "from pyspark.ml.classification import DecisionTreeClassifier\n",
    "from pyspark.ml.evaluation import MulticlassClassificationEvaluator"
   ]
  },
  {
   "cell_type": "code",
   "execution_count": 48,
   "metadata": {
    "collapsed": true
   },
   "outputs": [],
   "source": [
    "dt = DecisionTreeClassifier(labelCol=\"labelIndex\", featuresCol=\"features\")\n",
    "model = dt.fit(trainingData)"
   ]
  },
  {
   "cell_type": "code",
   "execution_count": 49,
   "metadata": {
    "collapsed": true
   },
   "outputs": [],
   "source": [
    "predictions = model.transform(testData)"
   ]
  },
  {
   "cell_type": "code",
   "execution_count": 50,
   "metadata": {
    "collapsed": false
   },
   "outputs": [
    {
     "name": "stdout",
     "output_type": "stream",
     "text": [
      "+----------+----------+\n",
      "|prediction|labelIndex|\n",
      "+----------+----------+\n",
      "|       0.0|       0.0|\n",
      "|       0.0|       0.0|\n",
      "|       0.0|       0.0|\n",
      "|       0.0|       0.0|\n",
      "|       0.0|       0.0|\n",
      "|       1.0|       0.0|\n",
      "|       0.0|       0.0|\n",
      "|       0.0|       0.0|\n",
      "|       0.0|       0.0|\n",
      "|       0.0|       0.0|\n",
      "|       0.0|       0.0|\n",
      "|       1.0|       0.0|\n",
      "|       0.0|       0.0|\n",
      "|       0.0|       0.0|\n",
      "|       0.0|       0.0|\n",
      "|       1.0|       1.0|\n",
      "|       1.0|       1.0|\n",
      "|       1.0|       1.0|\n",
      "|       1.0|       1.0|\n",
      "|       1.0|       1.0|\n",
      "|       1.0|       1.0|\n",
      "|       1.0|       1.0|\n",
      "|       1.0|       1.0|\n",
      "|       2.0|       1.0|\n",
      "|       1.0|       1.0|\n",
      "|       1.0|       1.0|\n",
      "|       1.0|       1.0|\n",
      "|       2.0|       2.0|\n",
      "|       2.0|       2.0|\n",
      "|       2.0|       2.0|\n",
      "|       2.0|       2.0|\n",
      "|       2.0|       2.0|\n",
      "|       2.0|       2.0|\n",
      "|       2.0|       2.0|\n",
      "|       2.0|       2.0|\n",
      "|       2.0|       2.0|\n",
      "|       2.0|       2.0|\n",
      "+----------+----------+\n",
      "\n"
     ]
    }
   ],
   "source": [
    "predictions.select(\"prediction\", \"labelIndex\").show(150)"
   ]
  },
  {
   "cell_type": "code",
   "execution_count": 51,
   "metadata": {
    "collapsed": false
   },
   "outputs": [
    {
     "name": "stdout",
     "output_type": "stream",
     "text": [
      "Test Error = 0.0810811 \n"
     ]
    }
   ],
   "source": [
    "evaluator = MulticlassClassificationEvaluator(\\\n",
    "labelCol=\"labelIndex\", predictionCol=\"prediction\",\\\n",
    "metricName=\"accuracy\")\n",
    "accuracy = evaluator.evaluate(predictions)\n",
    "print(\"Test Error = %g \" % (1.0 - accuracy))"
   ]
  },
  {
   "cell_type": "code",
   "execution_count": 52,
   "metadata": {
    "collapsed": false
   },
   "outputs": [
    {
     "name": "stdout",
     "output_type": "stream",
     "text": [
      "DecisionTreeClassificationModel (uid=DecisionTreeClassifier_42328d8c17c7f89abf91) of depth 4 with 13 nodes\n"
     ]
    }
   ],
   "source": [
    "print(model)"
   ]
  },
  {
   "cell_type": "code",
   "execution_count": 8,
   "metadata": {
    "collapsed": true
   },
   "outputs": [],
   "source": [
    "(trainingData, testData) = df.randomSplit([0.7, 0.3])"
   ]
  },
  {
   "cell_type": "code",
   "execution_count": 53,
   "metadata": {
    "collapsed": false
   },
   "outputs": [
    {
     "ename": "Py4JJavaError",
     "evalue": "An error occurred while calling o313.save.\n: java.io.IOException: Path ./model.pyspark already exists. Please use write.overwrite().save(path) to overwrite it.\n\tat org.apache.spark.ml.util.MLWriter.save(ReadWrite.scala:110)\n\tat sun.reflect.NativeMethodAccessorImpl.invoke0(Native Method)\n\tat sun.reflect.NativeMethodAccessorImpl.invoke(NativeMethodAccessorImpl.java:57)\n\tat sun.reflect.DelegatingMethodAccessorImpl.invoke(DelegatingMethodAccessorImpl.java:43)\n\tat java.lang.reflect.Method.invoke(Method.java:606)\n\tat py4j.reflection.MethodInvoker.invoke(MethodInvoker.java:237)\n\tat py4j.reflection.ReflectionEngine.invoke(ReflectionEngine.java:357)\n\tat py4j.Gateway.invoke(Gateway.java:280)\n\tat py4j.commands.AbstractCommand.invokeMethod(AbstractCommand.java:132)\n\tat py4j.commands.CallCommand.execute(CallCommand.java:79)\n\tat py4j.GatewayConnection.run(GatewayConnection.java:214)\n\tat java.lang.Thread.run(Thread.java:745)\n",
     "output_type": "error",
     "traceback": [
      "\u001b[0;31m---------------------------------------------------------------------------\u001b[0m",
      "\u001b[0;31mPy4JJavaError\u001b[0m                             Traceback (most recent call last)",
      "\u001b[0;32m<ipython-input-53-9fc566af57af>\u001b[0m in \u001b[0;36m<module>\u001b[0;34m()\u001b[0m\n\u001b[0;32m----> 1\u001b[0;31m \u001b[0mmodel\u001b[0m\u001b[0;34m.\u001b[0m\u001b[0msave\u001b[0m\u001b[0;34m(\u001b[0m\u001b[0;34m'./model.pyspark'\u001b[0m\u001b[0;34m)\u001b[0m\u001b[0;34m\u001b[0m\u001b[0m\n\u001b[0m",
      "\u001b[0;32m/usr/local/spark/python/pyspark/ml/util.py\u001b[0m in \u001b[0;36msave\u001b[0;34m(self, path)\u001b[0m\n\u001b[1;32m    127\u001b[0m     \u001b[0;32mdef\u001b[0m \u001b[0msave\u001b[0m\u001b[0;34m(\u001b[0m\u001b[0mself\u001b[0m\u001b[0;34m,\u001b[0m \u001b[0mpath\u001b[0m\u001b[0;34m)\u001b[0m\u001b[0;34m:\u001b[0m\u001b[0;34m\u001b[0m\u001b[0m\n\u001b[1;32m    128\u001b[0m         \u001b[0;34m\"\"\"Save this ML instance to the given path, a shortcut of `write().save(path)`.\"\"\"\u001b[0m\u001b[0;34m\u001b[0m\u001b[0m\n\u001b[0;32m--> 129\u001b[0;31m         \u001b[0mself\u001b[0m\u001b[0;34m.\u001b[0m\u001b[0mwrite\u001b[0m\u001b[0;34m(\u001b[0m\u001b[0;34m)\u001b[0m\u001b[0;34m.\u001b[0m\u001b[0msave\u001b[0m\u001b[0;34m(\u001b[0m\u001b[0mpath\u001b[0m\u001b[0;34m)\u001b[0m\u001b[0;34m\u001b[0m\u001b[0m\n\u001b[0m\u001b[1;32m    130\u001b[0m \u001b[0;34m\u001b[0m\u001b[0m\n\u001b[1;32m    131\u001b[0m \u001b[0;34m\u001b[0m\u001b[0m\n",
      "\u001b[0;32m/usr/local/spark/python/pyspark/ml/util.py\u001b[0m in \u001b[0;36msave\u001b[0;34m(self, path)\u001b[0m\n\u001b[1;32m     98\u001b[0m         \u001b[0;32mif\u001b[0m \u001b[0;32mnot\u001b[0m \u001b[0misinstance\u001b[0m\u001b[0;34m(\u001b[0m\u001b[0mpath\u001b[0m\u001b[0;34m,\u001b[0m \u001b[0mbasestring\u001b[0m\u001b[0;34m)\u001b[0m\u001b[0;34m:\u001b[0m\u001b[0;34m\u001b[0m\u001b[0m\n\u001b[1;32m     99\u001b[0m             \u001b[0;32mraise\u001b[0m \u001b[0mTypeError\u001b[0m\u001b[0;34m(\u001b[0m\u001b[0;34m\"path should be a basestring, got type %s\"\u001b[0m \u001b[0;34m%\u001b[0m \u001b[0mtype\u001b[0m\u001b[0;34m(\u001b[0m\u001b[0mpath\u001b[0m\u001b[0;34m)\u001b[0m\u001b[0;34m)\u001b[0m\u001b[0;34m\u001b[0m\u001b[0m\n\u001b[0;32m--> 100\u001b[0;31m         \u001b[0mself\u001b[0m\u001b[0;34m.\u001b[0m\u001b[0m_jwrite\u001b[0m\u001b[0;34m.\u001b[0m\u001b[0msave\u001b[0m\u001b[0;34m(\u001b[0m\u001b[0mpath\u001b[0m\u001b[0;34m)\u001b[0m\u001b[0;34m\u001b[0m\u001b[0m\n\u001b[0m\u001b[1;32m    101\u001b[0m \u001b[0;34m\u001b[0m\u001b[0m\n\u001b[1;32m    102\u001b[0m     \u001b[0;32mdef\u001b[0m \u001b[0moverwrite\u001b[0m\u001b[0;34m(\u001b[0m\u001b[0mself\u001b[0m\u001b[0;34m)\u001b[0m\u001b[0;34m:\u001b[0m\u001b[0;34m\u001b[0m\u001b[0m\n",
      "\u001b[0;32m/usr/local/spark/python/lib/py4j-0.10.3-src.zip/py4j/java_gateway.py\u001b[0m in \u001b[0;36m__call__\u001b[0;34m(self, *args)\u001b[0m\n\u001b[1;32m   1131\u001b[0m         \u001b[0manswer\u001b[0m \u001b[0;34m=\u001b[0m \u001b[0mself\u001b[0m\u001b[0;34m.\u001b[0m\u001b[0mgateway_client\u001b[0m\u001b[0;34m.\u001b[0m\u001b[0msend_command\u001b[0m\u001b[0;34m(\u001b[0m\u001b[0mcommand\u001b[0m\u001b[0;34m)\u001b[0m\u001b[0;34m\u001b[0m\u001b[0m\n\u001b[1;32m   1132\u001b[0m         return_value = get_return_value(\n\u001b[0;32m-> 1133\u001b[0;31m             answer, self.gateway_client, self.target_id, self.name)\n\u001b[0m\u001b[1;32m   1134\u001b[0m \u001b[0;34m\u001b[0m\u001b[0m\n\u001b[1;32m   1135\u001b[0m         \u001b[0;32mfor\u001b[0m \u001b[0mtemp_arg\u001b[0m \u001b[0;32min\u001b[0m \u001b[0mtemp_args\u001b[0m\u001b[0;34m:\u001b[0m\u001b[0;34m\u001b[0m\u001b[0m\n",
      "\u001b[0;32m/usr/local/spark/python/pyspark/sql/utils.py\u001b[0m in \u001b[0;36mdeco\u001b[0;34m(*a, **kw)\u001b[0m\n\u001b[1;32m     61\u001b[0m     \u001b[0;32mdef\u001b[0m \u001b[0mdeco\u001b[0m\u001b[0;34m(\u001b[0m\u001b[0;34m*\u001b[0m\u001b[0ma\u001b[0m\u001b[0;34m,\u001b[0m \u001b[0;34m**\u001b[0m\u001b[0mkw\u001b[0m\u001b[0;34m)\u001b[0m\u001b[0;34m:\u001b[0m\u001b[0;34m\u001b[0m\u001b[0m\n\u001b[1;32m     62\u001b[0m         \u001b[0;32mtry\u001b[0m\u001b[0;34m:\u001b[0m\u001b[0;34m\u001b[0m\u001b[0m\n\u001b[0;32m---> 63\u001b[0;31m             \u001b[0;32mreturn\u001b[0m \u001b[0mf\u001b[0m\u001b[0;34m(\u001b[0m\u001b[0;34m*\u001b[0m\u001b[0ma\u001b[0m\u001b[0;34m,\u001b[0m \u001b[0;34m**\u001b[0m\u001b[0mkw\u001b[0m\u001b[0;34m)\u001b[0m\u001b[0;34m\u001b[0m\u001b[0m\n\u001b[0m\u001b[1;32m     64\u001b[0m         \u001b[0;32mexcept\u001b[0m \u001b[0mpy4j\u001b[0m\u001b[0;34m.\u001b[0m\u001b[0mprotocol\u001b[0m\u001b[0;34m.\u001b[0m\u001b[0mPy4JJavaError\u001b[0m \u001b[0;32mas\u001b[0m \u001b[0me\u001b[0m\u001b[0;34m:\u001b[0m\u001b[0;34m\u001b[0m\u001b[0m\n\u001b[1;32m     65\u001b[0m             \u001b[0ms\u001b[0m \u001b[0;34m=\u001b[0m \u001b[0me\u001b[0m\u001b[0;34m.\u001b[0m\u001b[0mjava_exception\u001b[0m\u001b[0;34m.\u001b[0m\u001b[0mtoString\u001b[0m\u001b[0;34m(\u001b[0m\u001b[0;34m)\u001b[0m\u001b[0;34m\u001b[0m\u001b[0m\n",
      "\u001b[0;32m/usr/local/spark/python/lib/py4j-0.10.3-src.zip/py4j/protocol.py\u001b[0m in \u001b[0;36mget_return_value\u001b[0;34m(answer, gateway_client, target_id, name)\u001b[0m\n\u001b[1;32m    317\u001b[0m                 raise Py4JJavaError(\n\u001b[1;32m    318\u001b[0m                     \u001b[0;34m\"An error occurred while calling {0}{1}{2}.\\n\"\u001b[0m\u001b[0;34m.\u001b[0m\u001b[0;34m\u001b[0m\u001b[0m\n\u001b[0;32m--> 319\u001b[0;31m                     format(target_id, \".\", name), value)\n\u001b[0m\u001b[1;32m    320\u001b[0m             \u001b[0;32melse\u001b[0m\u001b[0;34m:\u001b[0m\u001b[0;34m\u001b[0m\u001b[0m\n\u001b[1;32m    321\u001b[0m                 raise Py4JError(\n",
      "\u001b[0;31mPy4JJavaError\u001b[0m: An error occurred while calling o313.save.\n: java.io.IOException: Path ./model.pyspark already exists. Please use write.overwrite().save(path) to overwrite it.\n\tat org.apache.spark.ml.util.MLWriter.save(ReadWrite.scala:110)\n\tat sun.reflect.NativeMethodAccessorImpl.invoke0(Native Method)\n\tat sun.reflect.NativeMethodAccessorImpl.invoke(NativeMethodAccessorImpl.java:57)\n\tat sun.reflect.DelegatingMethodAccessorImpl.invoke(DelegatingMethodAccessorImpl.java:43)\n\tat java.lang.reflect.Method.invoke(Method.java:606)\n\tat py4j.reflection.MethodInvoker.invoke(MethodInvoker.java:237)\n\tat py4j.reflection.ReflectionEngine.invoke(ReflectionEngine.java:357)\n\tat py4j.Gateway.invoke(Gateway.java:280)\n\tat py4j.commands.AbstractCommand.invokeMethod(AbstractCommand.java:132)\n\tat py4j.commands.CallCommand.execute(CallCommand.java:79)\n\tat py4j.GatewayConnection.run(GatewayConnection.java:214)\n\tat java.lang.Thread.run(Thread.java:745)\n"
     ]
    }
   ],
   "source": [
    "model.save('./model.pyspark')"
   ]
  },
  {
   "cell_type": "code",
   "execution_count": 9,
   "metadata": {
    "collapsed": false
   },
   "outputs": [],
   "source": [
    "from pyspark.ml.classification import DecisionTreeClassificationModel\n",
    "new_model = DecisionTreeClassificationModel.load('./model.pyspark')"
   ]
  },
  {
   "cell_type": "code",
   "execution_count": 23,
   "metadata": {
    "collapsed": false
   },
   "outputs": [
    {
     "name": "stderr",
     "output_type": "stream",
     "text": [
      "/usr/local/spark/python/pyspark/sql/session.py:316: UserWarning: inferring schema from dict is deprecated,please use pyspark.sql.Row instead\n",
      "  warnings.warn(\"inferring schema from dict is deprecated,\"\n"
     ]
    }
   ],
   "source": [
    "from pyspark.ml.linalg import Vectors\n",
    "d = [{'features': Vectors.dense([5.6,2.9,3.6,1.3]), 'labelIndex' : 0.0}]\n",
    "data = sqlContext.createDataFrame(d)"
   ]
  },
  {
   "cell_type": "code",
   "execution_count": 24,
   "metadata": {
    "collapsed": false
   },
   "outputs": [],
   "source": [
    "predictions = new_model.transform(data)"
   ]
  },
  {
   "cell_type": "code",
   "execution_count": 25,
   "metadata": {
    "collapsed": false
   },
   "outputs": [
    {
     "name": "stdout",
     "output_type": "stream",
     "text": [
      "+----------+----------+\n",
      "|prediction|labelIndex|\n",
      "+----------+----------+\n",
      "|       1.0|       0.0|\n",
      "+----------+----------+\n",
      "\n"
     ]
    }
   ],
   "source": [
    "predictions.select(\"prediction\", \"labelIndex\").show(2)"
   ]
  },
  {
   "cell_type": "code",
   "execution_count": 32,
   "metadata": {
    "collapsed": false
   },
   "outputs": [
    {
     "name": "stdout",
     "output_type": "stream",
     "text": [
      "Row(prediction=1.0)\n"
     ]
    }
   ],
   "source": [
    "print(predictions.select(\"prediction\").collect()[0])"
   ]
  },
  {
   "cell_type": "code",
   "execution_count": 34,
   "metadata": {
    "collapsed": false
   },
   "outputs": [
    {
     "name": "stdout",
     "output_type": "stream",
     "text": [
      "[1.0]\n"
     ]
    }
   ],
   "source": [
    "import pyspark.sql.functions as f\n",
    "print(predictions.select(f.collect_list('prediction')).first()[0])"
   ]
  },
  {
   "cell_type": "code",
   "execution_count": 35,
   "metadata": {
    "collapsed": false
   },
   "outputs": [
    {
     "name": "stdout",
     "output_type": "stream",
     "text": [
      "1.0\n"
     ]
    }
   ],
   "source": [
    "print(predictions.select('prediction').first()[0])"
   ]
  },
  {
   "cell_type": "code",
   "execution_count": 37,
   "metadata": {
    "collapsed": false
   },
   "outputs": [
    {
     "name": "stdout",
     "output_type": "stream",
     "text": [
      "versicolor\n"
     ]
    }
   ],
   "source": [
    "labels = [\"setosa\", \"versicolor\", \"virginica\"]\n",
    "print(labels[int(predictions.select('prediction').first()[0])])"
   ]
  },
  {
   "cell_type": "code",
   "execution_count": null,
   "metadata": {
    "collapsed": true
   },
   "outputs": [],
   "source": []
  }
 ],
 "metadata": {
  "kernelspec": {
   "display_name": "Python 3",
   "language": "python",
   "name": "python3"
  },
  "language_info": {
   "codemirror_mode": {
    "name": "ipython",
    "version": 3
   },
   "file_extension": ".py",
   "mimetype": "text/x-python",
   "name": "python",
   "nbconvert_exporter": "python",
   "pygments_lexer": "ipython3",
   "version": "3.5.2"
  }
 },
 "nbformat": 4,
 "nbformat_minor": 1
}
