{
 "cells": [
  {
   "cell_type": "code",
   "execution_count": 1,
   "metadata": {
    "collapsed": false
   },
   "outputs": [],
   "source": [
    "import sys\n",
    "import os\n",
    "\n",
    "from pyspark.sql.types import *\n",
    "import pyspark.sql.functions as func\n",
    "\n",
    "from pyspark.ml import Pipeline\n",
    "from pyspark.ml.evaluation import RegressionEvaluator\n",
    "from pyspark.ml.feature import Bucketizer, OneHotEncoder, StringIndexer, VectorAssembler\n",
    "from pyspark.ml.regression import GeneralizedLinearRegression, LinearRegression\n",
    "from pyspark.ml.tuning import CrossValidator, ParamGridBuilder \n",
    "\n",
    "import pyspark\n",
    "from pyspark.sql import SQLContext\n",
    "\n",
    "if ('sc' not in locals() or 'sc' not in globals()):\n",
    "    os.environ['PYSPARK_PYTHON'] = '/usr/bin/python2'\n",
    "    sc = pyspark.SparkContext('local[*]')\n",
    "\n",
    "sqlContext = SQLContext(sc)"
   ]
  },
  {
   "cell_type": "code",
   "execution_count": 2,
   "metadata": {
    "collapsed": false
   },
   "outputs": [],
   "source": [
    "df = sqlContext.read.csv(\"bezdekIris.data\", inferSchema=True)\\\n",
    ".toDF(\"sep_len\", \"sep_wid\", \"pet_len\", \"pet_wid\", \"label\")"
   ]
  },
  {
   "cell_type": "code",
   "execution_count": 3,
   "metadata": {
    "collapsed": false
   },
   "outputs": [
    {
     "name": "stdout",
     "output_type": "stream",
     "text": [
      "+-------+-------+-------+-------+-----------+\n",
      "|sep_len|sep_wid|pet_len|pet_wid|      label|\n",
      "+-------+-------+-------+-------+-----------+\n",
      "|    5.1|    3.5|    1.4|    0.2|Iris-setosa|\n",
      "|    4.9|    3.0|    1.4|    0.2|Iris-setosa|\n",
      "|    4.7|    3.2|    1.3|    0.2|Iris-setosa|\n",
      "|    4.6|    3.1|    1.5|    0.2|Iris-setosa|\n",
      "|    5.0|    3.6|    1.4|    0.2|Iris-setosa|\n",
      "+-------+-------+-------+-------+-----------+\n",
      "only showing top 5 rows\n",
      "\n"
     ]
    }
   ],
   "source": [
    "df.show(5)"
   ]
  },
  {
   "cell_type": "code",
   "execution_count": 4,
   "metadata": {
    "collapsed": true
   },
   "outputs": [],
   "source": [
    "from pyspark.ml.linalg import Vectors\n",
    "from pyspark.ml.feature import VectorAssembler"
   ]
  },
  {
   "cell_type": "code",
   "execution_count": 5,
   "metadata": {
    "collapsed": false
   },
   "outputs": [
    {
     "name": "stdout",
     "output_type": "stream",
     "text": [
      "+-------+-------+-------+-------+-----------+-----------------+\n",
      "|sep_len|sep_wid|pet_len|pet_wid|      label|         features|\n",
      "+-------+-------+-------+-------+-----------+-----------------+\n",
      "|    5.1|    3.5|    1.4|    0.2|Iris-setosa|[5.1,3.5,1.4,0.2]|\n",
      "|    4.9|    3.0|    1.4|    0.2|Iris-setosa|[4.9,3.0,1.4,0.2]|\n",
      "|    4.7|    3.2|    1.3|    0.2|Iris-setosa|[4.7,3.2,1.3,0.2]|\n",
      "+-------+-------+-------+-------+-----------+-----------------+\n",
      "only showing top 3 rows\n",
      "\n"
     ]
    }
   ],
   "source": [
    "vector_assembler = VectorAssembler(\\\n",
    "inputCols=[\"sep_len\", \"sep_wid\", \"pet_len\", \"pet_wid\"],\\\n",
    "outputCol=\"features\")\n",
    "df_temp = vector_assembler.transform(df)\n",
    "df_temp.show(3)"
   ]
  },
  {
   "cell_type": "code",
   "execution_count": 6,
   "metadata": {
    "collapsed": false
   },
   "outputs": [
    {
     "name": "stdout",
     "output_type": "stream",
     "text": [
      "+-----------+-----------------+\n",
      "|      label|         features|\n",
      "+-----------+-----------------+\n",
      "|Iris-setosa|[5.1,3.5,1.4,0.2]|\n",
      "|Iris-setosa|[4.9,3.0,1.4,0.2]|\n",
      "|Iris-setosa|[4.7,3.2,1.3,0.2]|\n",
      "+-----------+-----------------+\n",
      "only showing top 3 rows\n",
      "\n"
     ]
    }
   ],
   "source": [
    "df = df_temp.drop(\"sep_len\").drop(\"sep_wid\").drop(\"pet_len\").drop(\"pet_wid\")\n",
    "df.show(3)"
   ]
  },
  {
   "cell_type": "code",
   "execution_count": 7,
   "metadata": {
    "collapsed": false
   },
   "outputs": [
    {
     "name": "stdout",
     "output_type": "stream",
     "text": [
      "+-----------+-----------------+----------+\n",
      "|      label|         features|labelIndex|\n",
      "+-----------+-----------------+----------+\n",
      "|Iris-setosa|[5.1,3.5,1.4,0.2]|       0.0|\n",
      "|Iris-setosa|[4.9,3.0,1.4,0.2]|       0.0|\n",
      "|Iris-setosa|[4.7,3.2,1.3,0.2]|       0.0|\n",
      "+-----------+-----------------+----------+\n",
      "only showing top 3 rows\n",
      "\n"
     ]
    }
   ],
   "source": [
    "from pyspark.ml.feature import StringIndexer\n",
    "l_indexer = StringIndexer(inputCol=\"label\", outputCol=\"labelIndex\")\n",
    "df = l_indexer.fit(df).transform(df)\n",
    "df.show(3)"
   ]
  },
  {
   "cell_type": "code",
   "execution_count": 8,
   "metadata": {
    "collapsed": true
   },
   "outputs": [],
   "source": [
    "(trainingData, testData) = df.randomSplit([0.7, 0.3])"
   ]
  },
  {
   "cell_type": "markdown",
   "metadata": {},
   "source": [
    "### Naive Bayes classifier"
   ]
  },
  {
   "cell_type": "code",
   "execution_count": 9,
   "metadata": {
    "collapsed": true
   },
   "outputs": [],
   "source": [
    "splits = df.randomSplit([0.6, 0.4], 1234)\n",
    "train = splits[0]\n",
    "test = splits[1]"
   ]
  },
  {
   "cell_type": "code",
   "execution_count": 10,
   "metadata": {
    "collapsed": true
   },
   "outputs": [],
   "source": [
    "from pyspark.ml.classification import DecisionTreeClassifier\n",
    "from pyspark.ml.evaluation import MulticlassClassificationEvaluator"
   ]
  },
  {
   "cell_type": "code",
   "execution_count": 11,
   "metadata": {
    "collapsed": true
   },
   "outputs": [],
   "source": [
    "from pyspark.ml.classification import NaiveBayes\n",
    "nb = NaiveBayes(labelCol=\"labelIndex\",\\\n",
    "featuresCol=\"features\", smoothing=1.0,\\\n",
    "modelType=\"multinomial\")\n",
    "model = nb.fit(train)"
   ]
  },
  {
   "cell_type": "code",
   "execution_count": 12,
   "metadata": {
    "collapsed": false
   },
   "outputs": [
    {
     "name": "stdout",
     "output_type": "stream",
     "text": [
      "+---------------+----------+--------------------+----------+\n",
      "|          label|labelIndex|         probability|prediction|\n",
      "+---------------+----------+--------------------+----------+\n",
      "|    Iris-setosa|       0.0|[0.72723788653438...|       0.0|\n",
      "|    Iris-setosa|       0.0|[0.64170595827692...|       0.0|\n",
      "|    Iris-setosa|       0.0|[0.67184222484015...|       0.0|\n",
      "|    Iris-setosa|       0.0|[0.68647236934182...|       0.0|\n",
      "|    Iris-setosa|       0.0|[0.79151826954673...|       0.0|\n",
      "|    Iris-setosa|       0.0|[0.66189579367600...|       0.0|\n",
      "|    Iris-setosa|       0.0|[0.65307352257988...|       0.0|\n",
      "|    Iris-setosa|       0.0|[0.73045962362363...|       0.0|\n",
      "|    Iris-setosa|       0.0|[0.59100133493054...|       0.0|\n",
      "|    Iris-setosa|       0.0|[0.75334864217418...|       0.0|\n",
      "|    Iris-setosa|       0.0|[0.71961717211598...|       0.0|\n",
      "|    Iris-setosa|       0.0|[0.70085626812960...|       0.0|\n",
      "|    Iris-setosa|       0.0|[0.75135089290995...|       0.0|\n",
      "|    Iris-setosa|       0.0|[0.81917691849121...|       0.0|\n",
      "|    Iris-setosa|       0.0|[0.70167417823247...|       0.0|\n",
      "|    Iris-setosa|       0.0|[0.70693654712612...|       0.0|\n",
      "|    Iris-setosa|       0.0|[0.77399109802077...|       0.0|\n",
      "|    Iris-setosa|       0.0|[0.73417003725876...|       0.0|\n",
      "|Iris-versicolor|       1.0|[0.10256421525027...|       1.0|\n",
      "|Iris-versicolor|       1.0|[0.07454754951196...|       1.0|\n",
      "|Iris-versicolor|       1.0|[0.05245384142437...|       2.0|\n",
      "|Iris-versicolor|       1.0|[0.03860703648288...|       2.0|\n",
      "|Iris-versicolor|       1.0|[0.05996483149721...|       1.0|\n",
      "|Iris-versicolor|       1.0|[0.05089249297131...|       2.0|\n",
      "|Iris-versicolor|       1.0|[0.03948176522037...|       2.0|\n",
      "|Iris-versicolor|       1.0|[0.04621278007483...|       2.0|\n",
      "|Iris-versicolor|       1.0|[0.04889332742895...|       1.0|\n",
      "|Iris-versicolor|       1.0|[0.04532232397066...|       2.0|\n",
      "|Iris-versicolor|       1.0|[0.06161045096546...|       1.0|\n",
      "|Iris-versicolor|       1.0|[0.04147439749134...|       2.0|\n",
      "|Iris-versicolor|       1.0|[0.04008943134436...|       2.0|\n",
      "|Iris-versicolor|       1.0|[0.06405771063144...|       1.0|\n",
      "|Iris-versicolor|       1.0|[0.05084909690847...|       1.0|\n",
      "|Iris-versicolor|       1.0|[0.02562990132269...|       2.0|\n",
      "|Iris-versicolor|       1.0|[0.04414155226446...|       1.0|\n",
      "|Iris-versicolor|       1.0|[0.04019282318574...|       1.0|\n",
      "| Iris-virginica|       2.0|[0.01295387521319...|       2.0|\n",
      "| Iris-virginica|       2.0|[0.01256526559841...|       2.0|\n",
      "| Iris-virginica|       2.0|[0.00668752866342...|       2.0|\n",
      "| Iris-virginica|       2.0|[0.01808315044864...|       2.0|\n",
      "| Iris-virginica|       2.0|[0.02247083092363...|       2.0|\n",
      "| Iris-virginica|       2.0|[0.02552626364391...|       2.0|\n",
      "| Iris-virginica|       2.0|[0.01242353293338...|       2.0|\n",
      "| Iris-virginica|       2.0|[0.00444784719578...|       2.0|\n",
      "| Iris-virginica|       2.0|[0.01410125806615...|       2.0|\n",
      "| Iris-virginica|       2.0|[0.01712616446497...|       2.0|\n",
      "| Iris-virginica|       2.0|[0.01056362230888...|       2.0|\n",
      "| Iris-virginica|       2.0|[0.01045828305288...|       2.0|\n",
      "| Iris-virginica|       2.0|[0.00662949771895...|       2.0|\n",
      "| Iris-virginica|       2.0|[0.00787244020073...|       2.0|\n",
      "| Iris-virginica|       2.0|[0.00907013308245...|       2.0|\n",
      "+---------------+----------+--------------------+----------+\n",
      "\n"
     ]
    }
   ],
   "source": [
    "predictions = model.transform(test)\n",
    "predictions.select(\"label\", \"labelIndex\", \n",
    "\"probability\", \"prediction\").show(150)"
   ]
  },
  {
   "cell_type": "code",
   "execution_count": 13,
   "metadata": {
    "collapsed": false
   },
   "outputs": [
    {
     "name": "stdout",
     "output_type": "stream",
     "text": [
      "Test set accuracy = 0.8235294117647058\n"
     ]
    }
   ],
   "source": [
    "evaluator =\\\n",
    "MulticlassClassificationEvaluator(labelCol=\"labelIndex\",\\\n",
    "predictionCol=\"prediction\", metricName=\"accuracy\")\n",
    "accuracy = evaluator.evaluate(predictions)\n",
    "print(\"Test set accuracy = \" + str(accuracy))"
   ]
  },
  {
   "cell_type": "code",
   "execution_count": 14,
   "metadata": {
    "collapsed": false
   },
   "outputs": [
    {
     "name": "stdout",
     "output_type": "stream",
     "text": [
      "NaiveBayes_4b2a950a114493b3672a\n"
     ]
    }
   ],
   "source": [
    "print(model)"
   ]
  },
  {
   "cell_type": "code",
   "execution_count": 15,
   "metadata": {
    "collapsed": true
   },
   "outputs": [],
   "source": [
    "model.save('./model.nbc')"
   ]
  },
  {
   "cell_type": "code",
   "execution_count": 22,
   "metadata": {
    "collapsed": false
   },
   "outputs": [],
   "source": [
    "from pyspark.ml.classification import NaiveBayesModel\n",
    "new_model = NaiveBayesModel.load('./model.nbc')"
   ]
  },
  {
   "cell_type": "code",
   "execution_count": 23,
   "metadata": {
    "collapsed": true
   },
   "outputs": [],
   "source": [
    "predictions = new_model.transform(testData)"
   ]
  },
  {
   "cell_type": "code",
   "execution_count": 24,
   "metadata": {
    "collapsed": false
   },
   "outputs": [
    {
     "name": "stdout",
     "output_type": "stream",
     "text": [
      "+----------+----------+\n",
      "|prediction|labelIndex|\n",
      "+----------+----------+\n",
      "|       0.0|       0.0|\n",
      "|       0.0|       0.0|\n",
      "|       0.0|       0.0|\n",
      "|       0.0|       0.0|\n",
      "|       0.0|       0.0|\n",
      "|       0.0|       0.0|\n",
      "|       0.0|       0.0|\n",
      "|       0.0|       0.0|\n",
      "|       0.0|       0.0|\n",
      "|       0.0|       0.0|\n",
      "|       0.0|       0.0|\n",
      "|       0.0|       0.0|\n",
      "|       1.0|       1.0|\n",
      "|       1.0|       1.0|\n",
      "|       2.0|       1.0|\n",
      "|       1.0|       1.0|\n",
      "|       1.0|       1.0|\n",
      "|       2.0|       1.0|\n",
      "|       2.0|       1.0|\n",
      "|       1.0|       1.0|\n",
      "|       2.0|       1.0|\n",
      "|       1.0|       1.0|\n",
      "|       1.0|       1.0|\n",
      "|       2.0|       1.0|\n",
      "|       2.0|       1.0|\n",
      "|       2.0|       1.0|\n",
      "|       2.0|       1.0|\n",
      "|       2.0|       1.0|\n",
      "|       1.0|       1.0|\n",
      "|       1.0|       1.0|\n",
      "|       1.0|       1.0|\n",
      "|       1.0|       1.0|\n",
      "|       2.0|       2.0|\n",
      "|       2.0|       2.0|\n",
      "|       2.0|       2.0|\n",
      "|       2.0|       2.0|\n",
      "|       2.0|       2.0|\n",
      "|       2.0|       2.0|\n",
      "|       2.0|       2.0|\n",
      "|       2.0|       2.0|\n",
      "|       2.0|       2.0|\n",
      "|       2.0|       2.0|\n",
      "|       2.0|       2.0|\n",
      "|       2.0|       2.0|\n",
      "|       2.0|       2.0|\n",
      "|       2.0|       2.0|\n",
      "|       2.0|       2.0|\n",
      "|       2.0|       2.0|\n",
      "|       2.0|       2.0|\n",
      "|       2.0|       2.0|\n",
      "|       2.0|       2.0|\n",
      "+----------+----------+\n",
      "\n"
     ]
    }
   ],
   "source": [
    "predictions.select(\"prediction\", \"labelIndex\").show(150)"
   ]
  },
  {
   "cell_type": "code",
   "execution_count": null,
   "metadata": {
    "collapsed": true
   },
   "outputs": [],
   "source": []
  }
 ],
 "metadata": {
  "kernelspec": {
   "display_name": "Python 3",
   "language": "python",
   "name": "python3"
  },
  "language_info": {
   "codemirror_mode": {
    "name": "ipython",
    "version": 3
   },
   "file_extension": ".py",
   "mimetype": "text/x-python",
   "name": "python",
   "nbconvert_exporter": "python",
   "pygments_lexer": "ipython3",
   "version": "3.5.2"
  }
 },
 "nbformat": 4,
 "nbformat_minor": 1
}
